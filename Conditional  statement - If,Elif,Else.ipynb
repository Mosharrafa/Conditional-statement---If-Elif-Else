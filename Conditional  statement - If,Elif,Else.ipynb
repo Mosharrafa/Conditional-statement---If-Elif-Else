{
 "cells": [
  {
   "cell_type": "code",
   "execution_count": 63,
   "metadata": {},
   "outputs": [],
   "source": [
    "a= 10 \n",
    "\n",
    "if a==11 :\n",
    "    print(\"This is my first condition\")"
   ]
  },
  {
   "cell_type": "code",
   "execution_count": 64,
   "metadata": {},
   "outputs": [
    {
     "name": "stdout",
     "output_type": "stream",
     "text": [
      "Oh no\n"
     ]
    }
   ],
   "source": [
    "a = 10\n",
    "\n",
    "if a==5:\n",
    "    print(\"OMG\")\n",
    "else:\n",
    "    print(\"Oh no\")\n",
    "    "
   ]
  },
  {
   "cell_type": "code",
   "execution_count": 65,
   "metadata": {},
   "outputs": [
    {
     "name": "stdout",
     "output_type": "stream",
     "text": [
      "if all the blocks fail then do this\n"
     ]
    }
   ],
   "source": [
    "a = 10\n",
    "\n",
    "if a==12:\n",
    "    print(\"we are trying to compare 10 with 12\")\n",
    "elif a== 11:\n",
    "    print(\" we are trying to check 10 with 11\")\n",
    "\n",
    "else:\n",
    "    print(\"if all the blocks fail then do this\")"
   ]
  },
  {
   "cell_type": "code",
   "execution_count": 66,
   "metadata": {},
   "outputs": [
    {
     "name": "stdout",
     "output_type": "stream",
     "text": [
      " I will be able to buy\n"
     ]
    }
   ],
   "source": [
    "price = 500\n",
    "if price >500:\n",
    "    print(\" may be I wont buy the shirt \")\n",
    "elif price < 500:\n",
    "    print(\" I will be able to buy the shirt\")\n",
    "    \n",
    "elif price <=500:\n",
    "    \n",
    "    print(\" I will be able to buy\")\n",
    "    \n",
    "else: \n",
    "    print(\"I will bring more money\")\n",
    "    "
   ]
  },
  {
   "cell_type": "code",
   "execution_count": 68,
   "metadata": {},
   "outputs": [],
   "source": [
    "L=[1,2,2,3,4,5788,76,9]\n"
   ]
  },
  {
   "cell_type": "code",
   "execution_count": 69,
   "metadata": {},
   "outputs": [
    {
     "data": {
      "text/plain": [
       "True"
      ]
     },
     "execution_count": 69,
     "metadata": {},
     "output_type": "execute_result"
    }
   ],
   "source": [
    "##Search 2 in list L\n",
    "2 in L\n",
    "\n"
   ]
  },
  {
   "cell_type": "code",
   "execution_count": 70,
   "metadata": {},
   "outputs": [
    {
     "name": "stdout",
     "output_type": "stream",
     "text": [
      "Try to perform task\n"
     ]
    }
   ],
   "source": [
    "if 2 in L:\n",
    "    print(\"Try to perform task\")\n",
    "else:\n",
    "    print(\"do not perform this task\")"
   ]
  },
  {
   "cell_type": "code",
   "execution_count": 10,
   "metadata": {},
   "outputs": [
    {
     "name": "stdout",
     "output_type": "stream",
     "text": [
      "do not perform this task\n"
     ]
    }
   ],
   "source": [
    "if 60 in L:\n",
    "    print(\"Try to perform task\")\n",
    "else:\n",
    "    print(\"do not perform this task\")"
   ]
  },
  {
   "cell_type": "code",
   "execution_count": 71,
   "metadata": {},
   "outputs": [
    {
     "name": "stdout",
     "output_type": "stream",
     "text": [
      " try to do a addition\n"
     ]
    }
   ],
   "source": [
    "if 1 in L:\n",
    "    print(\" try to do a addition\")\n",
    "elif 2 in L:\n",
    "    print(\"try to do sub\")\n",
    "    \n",
    "elif 3 in L:\n",
    "    print(\"try to do Mul\")\n",
    "    "
   ]
  },
  {
   "cell_type": "code",
   "execution_count": 72,
   "metadata": {},
   "outputs": [
    {
     "data": {
      "text/plain": [
       "[1, 2, 2, 3, 4, 5788, 76, 9]"
      ]
     },
     "execution_count": 72,
     "metadata": {},
     "output_type": "execute_result"
    }
   ],
   "source": [
    "L"
   ]
  },
  {
   "cell_type": "code",
   "execution_count": 73,
   "metadata": {},
   "outputs": [
    {
     "name": "stdout",
     "output_type": "stream",
     "text": [
      "ferr\n"
     ]
    }
   ],
   "source": [
    "## input function\n",
    "b = input()"
   ]
  },
  {
   "cell_type": "code",
   "execution_count": 14,
   "metadata": {},
   "outputs": [
    {
     "data": {
      "text/plain": [
       "'jjk'"
      ]
     },
     "execution_count": 14,
     "metadata": {},
     "output_type": "execute_result"
    }
   ],
   "source": [
    "b"
   ]
  },
  {
   "cell_type": "code",
   "execution_count": 15,
   "metadata": {},
   "outputs": [
    {
     "name": "stdout",
     "output_type": "stream",
     "text": [
      "400\n",
      "I will be able to buy something\n",
      "I wont be able to buy anything\n"
     ]
    }
   ],
   "source": [
    "price = int(input())\n",
    "\n",
    "if price<500:\n",
    "    print(\"I will be able to buy something\")\n",
    "    \n",
    "    if price< 400:\n",
    "        print(\"I will be able to buy a jacket\")\n",
    "    elif price <300:\n",
    "        print(\"I will be able to buy anything\")\n",
    "    else:\n",
    "        print(\"I wont be able to buy anything\")\n",
    "        \n",
    "else:\n",
    "    print(\"I wont be able to buy anything with this price tag\")\n",
    "    if price >500:\n",
    "        print(\"lets try something else\")\n",
    "        "
   ]
  },
  {
   "cell_type": "code",
   "execution_count": 16,
   "metadata": {},
   "outputs": [
    {
     "name": "stdout",
     "output_type": "stream",
     "text": [
      "6003\n",
      "Yot GRE! Congratulations\n"
     ]
    }
   ],
   "source": [
    "marks = int(input())\n",
    "\n",
    "if marks < 600:\n",
    "    print(\"I will be able to clear GRE\")\n",
    "\n",
    "    if marks<600:\n",
    "        print(\" No GRE\")\n",
    "    elif marks<500:\n",
    "        print(\"Toefl\")\n",
    "    elif marks< 400:\n",
    "        print(\"try something else\")\n",
    "        \n",
    "else:\n",
    "    print(\"Yot GRE! Congratulations\")\n"
   ]
  },
  {
   "cell_type": "code",
   "execution_count": 17,
   "metadata": {},
   "outputs": [
    {
     "name": "stdout",
     "output_type": "stream",
     "text": [
      "enter a floating point number566.7\n",
      "enter value is a positive number\n"
     ]
    }
   ],
   "source": [
    "val=float(input(\"enter a floating point number\"))\n",
    "\n",
    "if val >=0:\n",
    "    if val ==0:\n",
    "    \n",
    "        print(\"entered value is zero\")\n",
    "    else:\n",
    "        print(\"enter value is a positive number\")\n",
    "        \n",
    "else:\n",
    "    print(\"entered number is a negative number\")\n",
    "        \n",
    "    \n",
    "    \n",
    "    "
   ]
  },
  {
   "cell_type": "code",
   "execution_count": 18,
   "metadata": {},
   "outputs": [
    {
     "name": "stdout",
     "output_type": "stream",
     "text": [
      "try to do something \n"
     ]
    }
   ],
   "source": [
    "a = 10\n",
    "\n",
    "if a<10 or a==10:\n",
    "    print(\"try to do something \")\n",
    "    "
   ]
  },
  {
   "cell_type": "code",
   "execution_count": 19,
   "metadata": {},
   "outputs": [],
   "source": [
    "a=10\n",
    "b=12\n",
    "c=14\n",
    "d=16\n",
    "\n",
    "if a == 10 and b==15 and c==17 and d==16:\n",
    "    \n",
    "    \n",
    "    print(\"this is a test\")"
   ]
  },
  {
   "cell_type": "code",
   "execution_count": 20,
   "metadata": {},
   "outputs": [
    {
     "name": "stdout",
     "output_type": "stream",
     "text": [
      "this is a test\n"
     ]
    }
   ],
   "source": [
    "a=10\n",
    "b=12\n",
    "c=14\n",
    "d=16\n",
    "\n",
    "if a == 10 or b==15 or c==17 or d==16:\n",
    "    \n",
    "    \n",
    "    print(\"this is a test\")"
   ]
  },
  {
   "cell_type": "code",
   "execution_count": 21,
   "metadata": {},
   "outputs": [
    {
     "name": "stdout",
     "output_type": "stream",
     "text": [
      "all the values are verified\n",
      "dict_values(['value', 'Italy', 'Germany'])\n"
     ]
    }
   ],
   "source": [
    "d =  {'key1':\"value\",'key2':\"Italy\",'key3': \"Germany\"}\n",
    "\n",
    "if d['key1'] ==\"value\" and d['key2']== \"Italy\" and d['key3']== \"Germany\":\n",
    "    print(\"all the values are verified\")\n",
    "    print(d.values())\n",
    "    \n",
    "else:\n",
    "    print(\"all the values are not verified \")\n",
    "    \n"
   ]
  },
  {
   "cell_type": "code",
   "execution_count": 22,
   "metadata": {},
   "outputs": [
    {
     "data": {
      "text/plain": [
       "'value'"
      ]
     },
     "execution_count": 22,
     "metadata": {},
     "output_type": "execute_result"
    }
   ],
   "source": [
    "d[\"key1\"]"
   ]
  },
  {
   "cell_type": "code",
   "execution_count": 23,
   "metadata": {},
   "outputs": [
    {
     "name": "stdout",
     "output_type": "stream",
     "text": [
      "all the values are not verified \n"
     ]
    }
   ],
   "source": [
    "d =  {'key1':\"value\",'key2':\"Italy\",'key3': \"Germany\"}\n",
    "\n",
    "if d['key1'] ==\"value\" and d['key2']== \"Italy\" and d['key3']== \"France\":\n",
    "    print(\"all the values are verified\")\n",
    "    print(d.values())\n",
    "    \n",
    "else:\n",
    "    print(\"all the values are not verified \")"
   ]
  },
  {
   "cell_type": "code",
   "execution_count": 24,
   "metadata": {},
   "outputs": [],
   "source": [
    "L = [1,2,3,4,5,\"Italy\",23.5,0.1,50]"
   ]
  },
  {
   "cell_type": "code",
   "execution_count": 25,
   "metadata": {},
   "outputs": [
    {
     "name": "stdout",
     "output_type": "stream",
     "text": [
      "1\n",
      "2\n",
      "3\n",
      "4\n",
      "5\n",
      "Italy\n",
      "23.5\n",
      "0.1\n",
      "50\n"
     ]
    }
   ],
   "source": [
    "for i in L:\n",
    "    print(i)"
   ]
  },
  {
   "cell_type": "code",
   "execution_count": 26,
   "metadata": {},
   "outputs": [
    {
     "name": "stdout",
     "output_type": "stream",
     "text": [
      "2\n",
      "3\n",
      "4\n",
      "5\n",
      "6\n"
     ]
    },
    {
     "ename": "TypeError",
     "evalue": "can only concatenate str (not \"int\") to str",
     "output_type": "error",
     "traceback": [
      "\u001b[1;31m---------------------------------------------------------------------------\u001b[0m",
      "\u001b[1;31mTypeError\u001b[0m                                 Traceback (most recent call last)",
      "\u001b[1;32m<ipython-input-26-d440a969617b>\u001b[0m in \u001b[0;36m<module>\u001b[1;34m\u001b[0m\n\u001b[0;32m      1\u001b[0m \u001b[1;32mfor\u001b[0m \u001b[0mi\u001b[0m \u001b[1;32min\u001b[0m \u001b[0mL\u001b[0m\u001b[1;33m:\u001b[0m\u001b[1;33m\u001b[0m\u001b[1;33m\u001b[0m\u001b[0m\n\u001b[1;32m----> 2\u001b[1;33m     \u001b[0mprint\u001b[0m\u001b[1;33m(\u001b[0m\u001b[0mi\u001b[0m\u001b[1;33m+\u001b[0m\u001b[1;36m1\u001b[0m\u001b[1;33m)\u001b[0m\u001b[1;33m\u001b[0m\u001b[1;33m\u001b[0m\u001b[0m\n\u001b[0m",
      "\u001b[1;31mTypeError\u001b[0m: can only concatenate str (not \"int\") to str"
     ]
    }
   ],
   "source": [
    "for i in L:\n",
    "    print(i+1)"
   ]
  },
  {
   "cell_type": "code",
   "execution_count": 27,
   "metadata": {},
   "outputs": [
    {
     "name": "stdout",
     "output_type": "stream",
     "text": [
      "2\n",
      "3\n",
      "4\n",
      "5\n",
      "6\n",
      "Italy1\n",
      "51\n"
     ]
    }
   ],
   "source": [
    "for i in L:\n",
    "    if type(i) == int:\n",
    "        print(i+1)\n",
    "    elif type(i) == str:\n",
    "        print(i+ str(1))"
   ]
  },
  {
   "cell_type": "code",
   "execution_count": 28,
   "metadata": {},
   "outputs": [
    {
     "name": "stdout",
     "output_type": "stream",
     "text": [
      "2\n",
      "3\n",
      "4\n",
      "5\n",
      "6\n",
      "Italy1\n",
      "24.5\n",
      "1.1\n",
      "51\n"
     ]
    }
   ],
   "source": [
    "for i in L:\n",
    "    if type(i) == int or type(i)==float:\n",
    "        print(i+1)\n",
    "    elif type(i) == str:\n",
    "        print(i+ str(1))"
   ]
  },
  {
   "cell_type": "code",
   "execution_count": null,
   "metadata": {},
   "outputs": [],
   "source": [
    "L"
   ]
  },
  {
   "cell_type": "code",
   "execution_count": 29,
   "metadata": {},
   "outputs": [],
   "source": [
    "L1= []\n",
    "\n",
    "for i in L:\n",
    "    if type(i) == int:\n",
    "        L1.append(i)"
   ]
  },
  {
   "cell_type": "code",
   "execution_count": 30,
   "metadata": {},
   "outputs": [
    {
     "data": {
      "text/plain": [
       "[1, 2, 3, 4, 5, 50]"
      ]
     },
     "execution_count": 30,
     "metadata": {},
     "output_type": "execute_result"
    }
   ],
   "source": [
    "L1"
   ]
  },
  {
   "cell_type": "code",
   "execution_count": null,
   "metadata": {},
   "outputs": [],
   "source": [
    "## if there is no body\n",
    "\n",
    "for i in L:\n",
    "    pass"
   ]
  },
  {
   "cell_type": "code",
   "execution_count": 31,
   "metadata": {},
   "outputs": [
    {
     "name": "stdout",
     "output_type": "stream",
     "text": [
      "Italy\n",
      "Italy\n",
      "Italy\n",
      "Italy\n",
      "Italy\n"
     ]
    }
   ],
   "source": [
    "K = \"Italy\"\n",
    "\n",
    "for i in K:\n",
    "    print(K)"
   ]
  },
  {
   "cell_type": "code",
   "execution_count": 32,
   "metadata": {},
   "outputs": [
    {
     "name": "stdout",
     "output_type": "stream",
     "text": [
      "I\n",
      "t\n",
      "a\n",
      "l\n",
      "y\n"
     ]
    }
   ],
   "source": [
    "K = \"Italy\"\n",
    "\n",
    "for i in K :\n",
    "    print(i)"
   ]
  },
  {
   "cell_type": "code",
   "execution_count": 33,
   "metadata": {},
   "outputs": [
    {
     "name": "stdout",
     "output_type": "stream",
     "text": [
      "I\n",
      "t\n",
      "a\n",
      "l\n",
      "y\n",
      "if for loop is going to complete itself then it will execute else\n"
     ]
    }
   ],
   "source": [
    "for i in K:\n",
    "    print(i)\n",
    "else:\n",
    "    print(\"if for loop is going to complete itself then it will execute else\")"
   ]
  },
  {
   "cell_type": "code",
   "execution_count": 34,
   "metadata": {},
   "outputs": [],
   "source": [
    "L = [1,2,3,4,5,\"Italy\",23.5,0.1,50]"
   ]
  },
  {
   "cell_type": "code",
   "execution_count": 35,
   "metadata": {},
   "outputs": [
    {
     "name": "stdout",
     "output_type": "stream",
     "text": [
      "1\n",
      "2\n",
      "3\n"
     ]
    }
   ],
   "source": [
    "for i in L:\n",
    "    if i==4:\n",
    "        break\n",
    "    print(i)\n",
    "else:\n",
    "    print(\"this will execute only if for is going to complete itself\")"
   ]
  },
  {
   "cell_type": "code",
   "execution_count": 36,
   "metadata": {},
   "outputs": [
    {
     "name": "stdout",
     "output_type": "stream",
     "text": [
      "I\n",
      "t\n",
      "a\n",
      "l\n",
      "y\n",
      " \n",
      "i\n"
     ]
    }
   ],
   "source": [
    "I = \"Italy is beautiful\"\n",
    "\n",
    "for i in I:\n",
    "    \n",
    "    if i == \"s\":\n",
    "        break\n",
    "        \n",
    "    print(i)\n",
    "else:\n",
    "    print(\"print string\",I)\n",
    "    "
   ]
  },
  {
   "cell_type": "code",
   "execution_count": 37,
   "metadata": {},
   "outputs": [
    {
     "name": "stdout",
     "output_type": "stream",
     "text": [
      "I\n",
      "t\n",
      "a\n",
      "l\n",
      "y\n",
      " \n",
      "i\n",
      "s\n",
      " \n",
      "b\n",
      "e\n",
      "a\n",
      "u\n",
      "t\n",
      "i\n",
      "f\n",
      "u\n",
      "l\n",
      "print string   Italy is beautiful\n"
     ]
    }
   ],
   "source": [
    "I = \"Italy is beautiful\"\n",
    "\n",
    "for i in I:\n",
    "    \n",
    "    if i == \"S\":\n",
    "        break\n",
    "        \n",
    "    print(i)\n",
    "else:\n",
    "    print(\"print string  \",I)"
   ]
  },
  {
   "cell_type": "code",
   "execution_count": 38,
   "metadata": {},
   "outputs": [
    {
     "name": "stdout",
     "output_type": "stream",
     "text": [
      "4\n",
      "5\n",
      "6\n",
      "8\n",
      "6\n",
      "Italy\n"
     ]
    }
   ],
   "source": [
    "## extract data from Tuples\n",
    "\n",
    "T = (4,5,6,8,6,\"Italy\")\n",
    "\n",
    "for i in T:\n",
    "    print(i)\n"
   ]
  },
  {
   "cell_type": "code",
   "execution_count": 39,
   "metadata": {},
   "outputs": [
    {
     "data": {
      "text/plain": [
       "tuple"
      ]
     },
     "execution_count": 39,
     "metadata": {},
     "output_type": "execute_result"
    }
   ],
   "source": [
    "type(T)"
   ]
  },
  {
   "cell_type": "code",
   "execution_count": 40,
   "metadata": {},
   "outputs": [],
   "source": [
    "b= {4,5,6,7,7,7,7,7,7,7,8,\"Italy\"}"
   ]
  },
  {
   "cell_type": "code",
   "execution_count": 41,
   "metadata": {},
   "outputs": [
    {
     "data": {
      "text/plain": [
       "set"
      ]
     },
     "execution_count": 41,
     "metadata": {},
     "output_type": "execute_result"
    }
   ],
   "source": [
    "type(b)"
   ]
  },
  {
   "cell_type": "code",
   "execution_count": 42,
   "metadata": {},
   "outputs": [
    {
     "data": {
      "text/plain": [
       "{4, 5, 6, 7, 8, 'Italy'}"
      ]
     },
     "execution_count": 42,
     "metadata": {},
     "output_type": "execute_result"
    }
   ],
   "source": [
    "##Set eliminates same data\n",
    "b"
   ]
  },
  {
   "cell_type": "code",
   "execution_count": 43,
   "metadata": {},
   "outputs": [
    {
     "name": "stdout",
     "output_type": "stream",
     "text": [
      "4\n",
      "5\n",
      "6\n",
      "7\n",
      "8\n",
      "Italy\n"
     ]
    }
   ],
   "source": [
    "for i in b:\n",
    "    print(i)\n",
    "    "
   ]
  },
  {
   "cell_type": "code",
   "execution_count": 44,
   "metadata": {},
   "outputs": [],
   "source": [
    "d = {'key1':'Germany','contact':'abc@gmail.com','position':'xyz'}"
   ]
  },
  {
   "cell_type": "code",
   "execution_count": 45,
   "metadata": {},
   "outputs": [
    {
     "data": {
      "text/plain": [
       "dict"
      ]
     },
     "execution_count": 45,
     "metadata": {},
     "output_type": "execute_result"
    }
   ],
   "source": [
    "type (d)"
   ]
  },
  {
   "cell_type": "code",
   "execution_count": 46,
   "metadata": {},
   "outputs": [
    {
     "name": "stdout",
     "output_type": "stream",
     "text": [
      "key1\n",
      "contact\n",
      "position\n"
     ]
    }
   ],
   "source": [
    "for i in d:\n",
    "    print(i)"
   ]
  },
  {
   "cell_type": "code",
   "execution_count": 47,
   "metadata": {},
   "outputs": [
    {
     "data": {
      "text/plain": [
       "'Germany'"
      ]
     },
     "execution_count": 47,
     "metadata": {},
     "output_type": "execute_result"
    }
   ],
   "source": [
    "d['key1']"
   ]
  },
  {
   "cell_type": "code",
   "execution_count": 48,
   "metadata": {},
   "outputs": [
    {
     "name": "stdout",
     "output_type": "stream",
     "text": [
      "Germany\n",
      "abc@gmail.com\n",
      "xyz\n"
     ]
    }
   ],
   "source": [
    "## Extraxt dict value\n",
    "\n",
    "for i in d:\n",
    "    print(d[i])"
   ]
  },
  {
   "cell_type": "code",
   "execution_count": 49,
   "metadata": {},
   "outputs": [
    {
     "name": "stdout",
     "output_type": "stream",
     "text": [
      "key1 Germany\n",
      "contact abc@gmail.com\n",
      "position xyz\n"
     ]
    }
   ],
   "source": [
    "## extract both the keys and values\n",
    "\n",
    "for i in d:\n",
    "    print(i, d[i])"
   ]
  },
  {
   "cell_type": "code",
   "execution_count": 50,
   "metadata": {},
   "outputs": [
    {
     "name": "stdout",
     "output_type": "stream",
     "text": [
      "key1 : Germany\n",
      "contact : abc@gmail.com\n",
      "position : xyz\n"
     ]
    }
   ],
   "source": [
    "## extract both the keys and values\n",
    "\n",
    "for i in d:\n",
    "    print(i, ':' ,d[i])"
   ]
  },
  {
   "cell_type": "code",
   "execution_count": 51,
   "metadata": {},
   "outputs": [
    {
     "data": {
      "text/plain": [
       "range(0, 9)"
      ]
     },
     "execution_count": 51,
     "metadata": {},
     "output_type": "execute_result"
    }
   ],
   "source": [
    "### print Italy using for loop as following\n",
    "        ## Italy Italy\n",
    "        ## Italy Italy Italy\n",
    "        ## Italy Italy Italy \n",
    "        \n",
    "range(9)"
   ]
  },
  {
   "cell_type": "code",
   "execution_count": 52,
   "metadata": {},
   "outputs": [
    {
     "data": {
      "text/plain": [
       "[0, 1, 2, 3, 4, 5, 6, 7, 8]"
      ]
     },
     "execution_count": 52,
     "metadata": {},
     "output_type": "execute_result"
    }
   ],
   "source": [
    "list(range(9))"
   ]
  },
  {
   "cell_type": "code",
   "execution_count": 53,
   "metadata": {},
   "outputs": [
    {
     "name": "stdout",
     "output_type": "stream",
     "text": [
      "0\n",
      "1\n",
      "2\n",
      "3\n",
      "4\n",
      "5\n",
      "6\n",
      "7\n",
      "8\n"
     ]
    }
   ],
   "source": [
    "for i in range(9):\n",
    "    print(i)"
   ]
  },
  {
   "cell_type": "code",
   "execution_count": 54,
   "metadata": {},
   "outputs": [
    {
     "data": {
      "text/plain": [
       "range(0, 20)"
      ]
     },
     "execution_count": 54,
     "metadata": {},
     "output_type": "execute_result"
    }
   ],
   "source": [
    "range(0,20)"
   ]
  },
  {
   "cell_type": "code",
   "execution_count": 55,
   "metadata": {},
   "outputs": [
    {
     "data": {
      "text/plain": [
       "[0, 1, 2, 3, 4, 5, 6, 7, 8, 9, 10, 11, 12, 13, 14, 15, 16, 17, 18, 19]"
      ]
     },
     "execution_count": 55,
     "metadata": {},
     "output_type": "execute_result"
    }
   ],
   "source": [
    "list(range(0,20))"
   ]
  },
  {
   "cell_type": "code",
   "execution_count": 56,
   "metadata": {},
   "outputs": [
    {
     "data": {
      "text/plain": [
       "[0, 1, 2, 3, 4, 5, 6, 7, 8, 9, 10, 11, 12, 13, 14, 15, 16, 17, 18, 19]"
      ]
     },
     "execution_count": 56,
     "metadata": {},
     "output_type": "execute_result"
    }
   ],
   "source": [
    "list(range(0,20 , 1))"
   ]
  },
  {
   "cell_type": "code",
   "execution_count": 57,
   "metadata": {},
   "outputs": [
    {
     "data": {
      "text/plain": [
       "[0, 2, 4, 6, 8, 10, 12, 14, 16, 18]"
      ]
     },
     "execution_count": 57,
     "metadata": {},
     "output_type": "execute_result"
    }
   ],
   "source": [
    "list(range(0,20 , 2))"
   ]
  },
  {
   "cell_type": "code",
   "execution_count": 58,
   "metadata": {},
   "outputs": [
    {
     "data": {
      "text/plain": [
       "[]"
      ]
     },
     "execution_count": 58,
     "metadata": {},
     "output_type": "execute_result"
    }
   ],
   "source": [
    "# conflict 0f directtion therefore output is empty\n",
    "list(range(0,20 , -1))\n",
    "\n"
   ]
  },
  {
   "cell_type": "code",
   "execution_count": 59,
   "metadata": {},
   "outputs": [
    {
     "data": {
      "text/plain": [
       "[20, 19, 18, 17, 16, 15, 14, 13, 12, 11, 10, 9, 8, 7, 6, 5, 4, 3, 2, 1]"
      ]
     },
     "execution_count": 59,
     "metadata": {},
     "output_type": "execute_result"
    }
   ],
   "source": [
    "list(range(20,0 , -1))"
   ]
  },
  {
   "cell_type": "code",
   "execution_count": 60,
   "metadata": {},
   "outputs": [
    {
     "name": "stdout",
     "output_type": "stream",
     "text": [
      "Italy \n",
      "\n",
      "Italy Italy \n",
      "\n",
      "Italy Italy Italy \n",
      "\n",
      "Italy Italy Italy Italy \n",
      "\n",
      "Italy Italy Italy Italy Italy \n",
      "\n",
      "Italy Italy Italy Italy Italy Italy \n",
      "\n",
      "Italy Italy Italy Italy Italy Italy Italy \n",
      "\n",
      "Italy Italy Italy Italy Italy Italy Italy Italy \n",
      "\n",
      "Italy Italy Italy Italy Italy Italy Italy Italy Italy \n",
      "\n",
      "Italy Italy Italy Italy Italy Italy Italy Italy Italy Italy \n",
      "\n"
     ]
    }
   ],
   "source": [
    "n = 10\n",
    "\n",
    "for i in range(10):\n",
    "    for j in range(0, i+1):\n",
    "        print(\"Italy\" , end= \" \")\n",
    "    print(\"\\n\")"
   ]
  },
  {
   "cell_type": "code",
   "execution_count": 62,
   "metadata": {},
   "outputs": [
    {
     "name": "stdout",
     "output_type": "stream",
     "text": [
      "\n",
      "\n",
      "Italy \n",
      "\n",
      "Italy Italy \n",
      "\n",
      "Italy Italy Italy \n",
      "\n"
     ]
    }
   ],
   "source": [
    "n = 4\n",
    "\n",
    "for i in range(4):\n",
    "    for j in range(0, i):\n",
    "        print(\"Italy\" , end= \" \")\n",
    "    print(\"\\n\")"
   ]
  },
  {
   "cell_type": "code",
   "execution_count": null,
   "metadata": {},
   "outputs": [],
   "source": []
  }
 ],
 "metadata": {
  "kernelspec": {
   "display_name": "Python 3",
   "language": "python",
   "name": "python3"
  },
  "language_info": {
   "codemirror_mode": {
    "name": "ipython",
    "version": 3
   },
   "file_extension": ".py",
   "mimetype": "text/x-python",
   "name": "python",
   "nbconvert_exporter": "python",
   "pygments_lexer": "ipython3",
   "version": "3.7.3"
  }
 },
 "nbformat": 4,
 "nbformat_minor": 2
}
